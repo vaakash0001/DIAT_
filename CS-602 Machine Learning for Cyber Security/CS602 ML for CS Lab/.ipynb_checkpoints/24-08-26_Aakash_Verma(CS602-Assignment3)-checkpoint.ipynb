{
 "cells": [
  {
   "cell_type": "markdown",
   "id": "ad41c2ce",
   "metadata": {},
   "source": [
    "# Lab Assignment 3:\n",
    "## Objective: To imeplement differnt distance metrics in ML.\n",
    "### Name: AAKASH VERMA\n",
    "### Reg. No.: 24-08-26\n",
    "### Course: M.Tech. (Cyber Security)"
   ]
  },
  {
   "cell_type": "code",
   "execution_count": 1,
   "id": "81de2f9c",
   "metadata": {},
   "outputs": [],
   "source": [
    "import numpy as np"
   ]
  },
  {
   "cell_type": "code",
   "execution_count": 2,
   "id": "3352d75f",
   "metadata": {},
   "outputs": [
    {
     "name": "stdout",
     "output_type": "stream",
     "text": [
      "Euclidean Distance: 5.744562646538029\n"
     ]
    }
   ],
   "source": [
    "def euclideanDistance(x, y):\n",
    "    return np.sqrt(np.sum((np.array(x) - np.array(y))**2))\n",
    "\n",
    "# Example datasets\n",
    "x = [3, 5, 1, 8]\n",
    "y = [1, 2, 3, 4]\n",
    "\n",
    "# Calculate Euclidean Distance\n",
    "distance = euclideanDistance(x, y)\n",
    "print(f\"Euclidean Distance: {distance}\")\n"
   ]
  },
  {
   "cell_type": "code",
   "execution_count": 3,
   "id": "46471fba",
   "metadata": {},
   "outputs": [
    {
     "name": "stdout",
     "output_type": "stream",
     "text": [
      "Manhattan Distance: 11\n"
     ]
    }
   ],
   "source": [
    "def manhattanDistance(x, y):\n",
    "    return np.sum(np.abs(np.array(x) - np.array(y)))\n",
    "\n",
    "# Example datasets\n",
    "x = [3, 5, 1, 8]\n",
    "y = [1, 2, 3, 4]\n",
    "\n",
    "# Calculate Manhattan Distance\n",
    "distance = manhattanDistance(x, y)\n",
    "print(f\"Manhattan Distance: {distance}\")"
   ]
  },
  {
   "cell_type": "code",
   "execution_count": 4,
   "id": "cca3697b",
   "metadata": {},
   "outputs": [
    {
     "name": "stdout",
     "output_type": "stream",
     "text": [
      "Minkowski Distance (p=3): 4.7474593985234\n"
     ]
    }
   ],
   "source": [
    "def minkowskiDistance(x, y, p):\n",
    "    return np.sum(np.abs(np.array(x) - np.array(y))**p)**(1/p)\n",
    "\n",
    "# Example datasets\n",
    "x = [3, 5, 1, 8]\n",
    "y = [1, 2, 3, 4]\n",
    "p = 3  # Minkowski distance parameter\n",
    "\n",
    "# Calculate Minkowski Distance\n",
    "distance = minkowskiDistance(x, y, p)\n",
    "print(f\"Minkowski Distance (p={p}): {distance}\")"
   ]
  },
  {
   "cell_type": "code",
   "execution_count": 5,
   "id": "122dbf3e",
   "metadata": {},
   "outputs": [
    {
     "name": "stdout",
     "output_type": "stream",
     "text": [
      "Hamming Distance: 3\n"
     ]
    }
   ],
   "source": [
    "def hammingDistance(x, y):\n",
    "    x, y = np.array(x), np.array(y)\n",
    "    return np.sum(x != y)\n",
    "\n",
    "# Example datasets (binary vectors)\n",
    "x = [1, 0, 1, 1]\n",
    "y = [0, 1, 1, 0]\n",
    "\n",
    "# Calculate Hamming Distance\n",
    "distance = hammingDistance(x, y)\n",
    "print(f\"Hamming Distance: {distance}\")"
   ]
  },
  {
   "cell_type": "code",
   "execution_count": 7,
   "id": "967b376b",
   "metadata": {},
   "outputs": [
    {
     "name": "stdout",
     "output_type": "stream",
     "text": [
      "Cosine Distance: 0.11922898789891156\n"
     ]
    }
   ],
   "source": [
    "import numpy as np\n",
    "\n",
    "def cosineDistance(x, y):\n",
    "    x = np.array(x)\n",
    "    y = np.array(y)\n",
    "    dot_product = np.dot(x, y)\n",
    "    norm_x = np.linalg.norm(x)\n",
    "    norm_y = np.linalg.norm(y)\n",
    "    cosine_similarity = dot_product / (norm_x * norm_y)\n",
    "    return 1 - cosine_similarity  # Cosine distance is 1 minus cosine similarity\n",
    "\n",
    "# Example datasets\n",
    "x = [3, 5, 1, 8]\n",
    "y = [1, 2, 3, 4]\n",
    "\n",
    "# Calculate Cosine Distance\n",
    "distance = cosineDistance(x, y)\n",
    "print(f\"Cosine Distance: {distance}\")\n"
   ]
  },
  {
   "cell_type": "code",
   "execution_count": 10,
   "id": "86dc7212",
   "metadata": {},
   "outputs": [
    {
     "name": "stdout",
     "output_type": "stream",
     "text": [
      "Mahalanobis Distance: 2.4494910567915196\n"
     ]
    }
   ],
   "source": [
    "import numpy as np\n",
    "\n",
    "def mahalanobisDistance(x, y, inv_cov_matrix):\n",
    "    x = np.array(x)\n",
    "    y = np.array(y)\n",
    "    delta = x - y\n",
    "    return np.sqrt(np.dot(np.dot(delta, inv_cov_matrix), delta.T))\n",
    "\n",
    "# Example datasets\n",
    "x = [3, 5, 1, 8]\n",
    "y = [1, 2, 3, 4]\n",
    "\n",
    "# Example dataset (used to compute the covariance matrix)\n",
    "data = np.array([\n",
    "    [3, 5, 1, 8],\n",
    "    [1, 2, 3, 4],\n",
    "    [5, 5, 5, 5],\n",
    "    [10, 10, 10, 10]\n",
    "])\n",
    "\n",
    "# Compute covariance matrix\n",
    "cov_matrix = np.cov(data, rowvar=False)\n",
    "\n",
    "# Add regularization term (small value to the diagonal) to handle singular matrix\n",
    "regularization_strength = 1e-10  # Small constant\n",
    "cov_matrix += np.eye(cov_matrix.shape[0]) * regularization_strength\n",
    "\n",
    "# Inverse of the regularized covariance matrix\n",
    "inv_cov_matrix = np.linalg.inv(cov_matrix)\n",
    "\n",
    "# Calculate Mahalanobis Distance\n",
    "distance = mahalanobisDistance(x, y, inv_cov_matrix)\n",
    "print(f\"Mahalanobis Distance: {distance}\")\n"
   ]
  },
  {
   "cell_type": "code",
   "execution_count": null,
   "id": "398b3c88",
   "metadata": {},
   "outputs": [],
   "source": []
  }
 ],
 "metadata": {
  "kernelspec": {
   "display_name": "Python 3 (ipykernel)",
   "language": "python",
   "name": "python3"
  },
  "language_info": {
   "codemirror_mode": {
    "name": "ipython",
    "version": 3
   },
   "file_extension": ".py",
   "mimetype": "text/x-python",
   "name": "python",
   "nbconvert_exporter": "python",
   "pygments_lexer": "ipython3",
   "version": "3.7.8"
  }
 },
 "nbformat": 4,
 "nbformat_minor": 5
}
