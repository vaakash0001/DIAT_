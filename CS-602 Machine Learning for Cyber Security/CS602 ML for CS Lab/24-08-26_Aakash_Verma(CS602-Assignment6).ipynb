{
 "cells": [
  {
   "cell_type": "markdown",
   "id": "c07d65e5",
   "metadata": {},
   "source": [
    "# Lab Assignment: 6\n",
    "## Objective: To implement Naive Bayes and apply on iris dataset.\n",
    "\n",
    "### Name: Aakash Verma\n",
    "### Reg. No.:  24-08-26\n",
    "### Course: M.Tech.(Cyber Security)"
   ]
  },
  {
   "cell_type": "code",
   "execution_count": 11,
   "id": "e69c825f",
   "metadata": {},
   "outputs": [],
   "source": [
    "import numpy as np\n",
    "from sklearn.datasets import load_iris\n",
    "from sklearn.model_selection import train_test_split\n",
    "from sklearn.metrics import accuracy_score"
   ]
  },
  {
   "cell_type": "code",
   "execution_count": 12,
   "id": "84406950",
   "metadata": {},
   "outputs": [],
   "source": [
    "class NaiveBayes:\n",
    "    def fit(self, X, y):\n",
    "        self.classes, counts = np.unique(y, return_counts=True)\n",
    "        self.priors = counts / len(y)\n",
    "        self.means = {}\n",
    "        self.variances = {}\n",
    "\n",
    "        for label in self.classes:\n",
    "            X_label = X[y == label]\n",
    "            self.means[label] = X_label.mean(axis=0)\n",
    "            self.variances[label] = X_label.var(axis=0)\n",
    "\n",
    "    def predict(self, X):\n",
    "        return np.array([self._predict_single(x) for x in X])\n",
    "\n",
    "    def _predict_single(self, x):\n",
    "        posteriors = []\n",
    "        for label in self.classes:\n",
    "            prior = np.log(self.priors[np.where(self.classes == label)[0][0]])\n",
    "            likelihood = -0.5 * np.sum(np.log(2 * np.pi * self.variances[label]))\n",
    "            likelihood -= 0.5 * np.sum(((x - self.means[label]) ** 2) / self.variances[label])\n",
    "            posterior = prior + likelihood\n",
    "            posteriors.append(posterior)\n",
    "        return self.classes[np.argmax(posteriors)]"
   ]
  },
  {
   "cell_type": "code",
   "execution_count": 13,
   "id": "c8695daa",
   "metadata": {},
   "outputs": [],
   "source": [
    "# Load Iris dataset\n",
    "iris = load_iris()\n",
    "X = iris.data\n",
    "y = iris.target"
   ]
  },
  {
   "cell_type": "code",
   "execution_count": 14,
   "id": "cea2c0a9",
   "metadata": {},
   "outputs": [],
   "source": [
    "# Split the dataset into training and testing sets\n",
    "X_train, X_test, y_train, y_test = train_test_split(X, y, test_size=0.2, random_state=42)"
   ]
  },
  {
   "cell_type": "code",
   "execution_count": 15,
   "id": "580101ef",
   "metadata": {},
   "outputs": [],
   "source": [
    "# Initialize and fit the Naive Bayes classifier\n",
    "nb = NaiveBayes()\n",
    "nb.fit(X_train, y_train)"
   ]
  },
  {
   "cell_type": "code",
   "execution_count": 16,
   "id": "426ef75a",
   "metadata": {},
   "outputs": [],
   "source": [
    "# Make predictions\n",
    "predictions = nb.predict(X_test)"
   ]
  },
  {
   "cell_type": "code",
   "execution_count": 17,
   "id": "cf429a36",
   "metadata": {},
   "outputs": [
    {
     "name": "stdout",
     "output_type": "stream",
     "text": [
      "Accuracy: 1.00\n"
     ]
    }
   ],
   "source": [
    "# Evaluate the model\n",
    "accuracy = accuracy_score(y_test, predictions)\n",
    "print(f'Accuracy: {accuracy:.2f}')"
   ]
  },
  {
   "cell_type": "markdown",
   "id": "67b9fa80",
   "metadata": {},
   "source": [
    "### Conclusion:\n",
    "#### 1. Naive Bayes effectively classified Iris species based on conditional probabilities, achieving strong accuracy due to its reliance on the assumption of feature independence.\n",
    "\n",
    "#### 2. The implementation highlighted Naive Bayes' simplicity and computational efficiency, making it an excellent choice for quick and effective classification tasks in machine learning."
   ]
  },
  {
   "cell_type": "code",
   "execution_count": null,
   "id": "2cbf881a",
   "metadata": {},
   "outputs": [],
   "source": []
  }
 ],
 "metadata": {
  "kernelspec": {
   "display_name": "Python 3 (ipykernel)",
   "language": "python",
   "name": "python3"
  },
  "language_info": {
   "codemirror_mode": {
    "name": "ipython",
    "version": 3
   },
   "file_extension": ".py",
   "mimetype": "text/x-python",
   "name": "python",
   "nbconvert_exporter": "python",
   "pygments_lexer": "ipython3",
   "version": "3.7.8"
  }
 },
 "nbformat": 4,
 "nbformat_minor": 5
}
