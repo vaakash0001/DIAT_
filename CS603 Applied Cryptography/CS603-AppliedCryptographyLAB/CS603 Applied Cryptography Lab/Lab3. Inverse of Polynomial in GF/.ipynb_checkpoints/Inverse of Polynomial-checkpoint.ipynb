{
 "cells": [
  {
   "cell_type": "code",
   "execution_count": 2,
   "id": "4cb731d3",
   "metadata": {},
   "outputs": [
    {
     "name": "stdout",
     "output_type": "stream",
     "text": [
      "Inverse : x^4 is x^2 + x^4 + x^5 + x^6\n"
     ]
    }
   ],
   "source": [
    "def binary_to_int(binary_str):\n",
    "    return int(binary_str, 2)\n",
    "\n",
    "def int_to_binary(integer, length=8):\n",
    "    return bin(integer)[2:].zfill(length)\n",
    "\n",
    "def poly_add_sub(a, b):\n",
    "    # Addition and subtraction are the same in GF(2)\n",
    "    return a ^ b\n",
    "\n",
    "def poly_mul(a, b, mod_polynomial):\n",
    "    result = 0\n",
    "    while b:\n",
    "        if b & 1:\n",
    "            result ^= a  # Add a to result if the lowest bit of b is set\n",
    "        a <<= 1  # Multiply a by x (shift left)\n",
    "        if a & 0x100:  # If degree of a exceeds 7 (i.e., if x^8 is present)\n",
    "            a ^= mod_polynomial  # Reduce modulo the irreducible polynomial\n",
    "        b >>= 1  # Move to the next bit in b\n",
    "    return result\n",
    "\n",
    "def poly_divmod(a, b):\n",
    "    degree_a = a.bit_length() - 1\n",
    "    degree_b = b.bit_length() - 1\n",
    "    quotient = 0\n",
    "\n",
    "    while degree_a >= degree_b:\n",
    "        shift = degree_a - degree_b\n",
    "        quotient ^= 1 << shift\n",
    "        a ^= b << shift\n",
    "        degree_a = a.bit_length() - 1\n",
    "\n",
    "    return quotient, a  # Returns quotient and remainder\n",
    "\n",
    "def extended_euclidean(a, b, mod_polynomial):\n",
    "    r0, r1 = a, b\n",
    "    t0, t1 = 0, 1\n",
    "\n",
    "    while r1 != 0:\n",
    "        quotient, remainder = poly_divmod(r0, r1)\n",
    "        r0, r1 = r1, remainder\n",
    "        t0, t1 = t1, poly_add_sub(t0, poly_mul(quotient, t1, mod_polynomial))\n",
    "\n",
    "    if r0 != 1:\n",
    "        raise ValueError(\"No multiplicative inverse exists.\")\n",
    "    \n",
    "    return t0\n",
    "\n",
    "def binary_to_polynomial(binary_str):\n",
    "    terms = []\n",
    "    for i, bit in enumerate(reversed(binary_str)):\n",
    "        if bit == '1':\n",
    "            if i == 0:\n",
    "                terms.append(\"1\")\n",
    "            elif i == 1:\n",
    "                terms.append(\"x\")\n",
    "            else:\n",
    "                terms.append(f\"x^{i}\")\n",
    "    return \" + \".join(terms) if terms else \"0\"\n",
    "\n",
    "def find_inverse(polynomial, mod_polynomial='100011011'):\n",
    "    mod_polynomial_int = binary_to_int(mod_polynomial)\n",
    "    poly_int = binary_to_int(polynomial)\n",
    "    inverse_int = extended_euclidean(mod_polynomial_int, poly_int, mod_polynomial_int)\n",
    "    return binary_to_polynomial(int_to_binary(inverse_int))\n",
    "\n",
    "# Example usage:\n",
    "modulus = '100011011'  # x^8 + x^4 + x^3 + x + 1\n",
    "\n",
    "# Test Case 1: Find the inverse of x^4 (binary: 00010000)\n",
    "polynomial = '00010000'\n",
    "inverse = find_inverse(polynomial, modulus)\n",
    "print(f\"Inverse : {binary_to_polynomial(polynomial)} is {inverse}\")\n",
    "\n"
   ]
  },
  {
   "cell_type": "code",
   "execution_count": null,
   "id": "f3db2c6a",
   "metadata": {},
   "outputs": [],
   "source": []
  }
 ],
 "metadata": {
  "kernelspec": {
   "display_name": "Python 3 (ipykernel)",
   "language": "python",
   "name": "python3"
  },
  "language_info": {
   "codemirror_mode": {
    "name": "ipython",
    "version": 3
   },
   "file_extension": ".py",
   "mimetype": "text/x-python",
   "name": "python",
   "nbconvert_exporter": "python",
   "pygments_lexer": "ipython3",
   "version": "3.7.8"
  }
 },
 "nbformat": 4,
 "nbformat_minor": 5
}
